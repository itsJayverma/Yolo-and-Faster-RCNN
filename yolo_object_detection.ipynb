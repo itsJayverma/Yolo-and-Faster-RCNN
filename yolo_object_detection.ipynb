{
  "nbformat": 4,
  "nbformat_minor": 0,
  "metadata": {
    "colab": {
      "provenance": []
    },
    "kernelspec": {
      "name": "python3",
      "display_name": "Python 3"
    },
    "language_info": {
      "name": "python"
    },
    "accelerator": "GPU",
    "gpuClass": "standard"
  },
  "cells": [
    {
      "cell_type": "code",
      "source": [
        "from google.colab import drive\n",
        "drive.mount('/content/drive')"
      ],
      "metadata": {
        "colab": {
          "base_uri": "https://localhost:8080/"
        },
        "id": "F59VlHg0RinH",
        "outputId": "7bb14adb-64e4-4345-dd6a-6de8a83c6e31"
      },
      "execution_count": null,
      "outputs": [
        {
          "output_type": "stream",
          "name": "stdout",
          "text": [
            "Mounted at /content/drive\n"
          ]
        }
      ]
    },
    {
      "cell_type": "code",
      "source": [
        "!unzip -q \"/content/drive/MyDrive/archive (3).zip\""
      ],
      "metadata": {
        "id": "9ZGuXxh3RsKh"
      },
      "execution_count": null,
      "outputs": []
    },
    {
      "cell_type": "code",
      "source": [
        "json_file = '/content/train_dataset/train.json'\n",
        "image_folder = '/content/train_dataset/train_images'\n",
        "yolo_folder = 'yolo'"
      ],
      "metadata": {
        "id": "pLyrwXGIRZsG"
      },
      "execution_count": null,
      "outputs": []
    },
    {
      "cell_type": "code",
      "source": [
        "os.makedirs(yolo_folder, exist_ok=True)\n"
      ],
      "metadata": {
        "id": "SKreSyR3ae4o"
      },
      "execution_count": null,
      "outputs": []
    },
    {
      "cell_type": "code",
      "source": [
        "# Load annotations\n",
        "import json\n",
        "with open(json_file) as f:\n",
        "    data_dict = json.load(f)"
      ],
      "metadata": {
        "id": "9NOu1D5PRf0f"
      },
      "execution_count": null,
      "outputs": []
    },
    {
      "cell_type": "code",
      "source": [
        "data_dict['annotations']"
      ],
      "metadata": {
        "id": "ZKggo3TAaGCu"
      },
      "execution_count": null,
      "outputs": []
    },
    {
      "cell_type": "code",
      "source": [
        "import os"
      ],
      "metadata": {
        "id": "S-BVEA_GbWBU"
      },
      "execution_count": null,
      "outputs": []
    },
    {
      "cell_type": "code",
      "source": [
        "# Loop through the elements in the annotations list\n",
        "data=[]\n",
        "for annotation in data_dict['annotations']:\n",
        "    # Get general bounding box information\n",
        "    filename = annotation['filename']\n",
        "    xmin = annotation['bndbox']['xmin']\n",
        "    ymin = annotation['bndbox']['ymin']\n",
        "    xmax = annotation['bndbox']['xmax']\n",
        "    ymax = annotation['bndbox']['ymax']\n",
        "    yolo_file = os.path.join(yolo_folder, os.path.splitext(annotation['filename']) + '.txt')\n",
        "\n",
        "    \n",
        "    if annotation['inbox']:\n",
        "        for inbox in annotation['inbox']:\n",
        "            color = inbox['color']\n",
        "            data.append({\n",
        "                    'filename': filename,\n",
        "                    'xmin': xmin,\n",
        "                    'ymin': ymin,\n",
        "                    'xmax': xmax,\n",
        "                    'ymax': ymax,\n",
        "                    'color': color,\n",
        "                })\n",
        "     \n",
        "    "
      ],
      "metadata": {
        "colab": {
          "base_uri": "https://localhost:8080/",
          "height": 235
        },
        "id": "Rm5QXWnOZgdZ",
        "outputId": "b55b12db-ea9a-4aae-d0ac-0572041b168a"
      },
      "execution_count": null,
      "outputs": [
        {
          "output_type": "error",
          "ename": "TypeError",
          "evalue": "ignored",
          "traceback": [
            "\u001b[0;31m---------------------------------------------------------------------------\u001b[0m",
            "\u001b[0;31mTypeError\u001b[0m                                 Traceback (most recent call last)",
            "\u001b[0;32m<ipython-input-23-426f78283ccf>\u001b[0m in \u001b[0;36m<cell line: 3>\u001b[0;34m()\u001b[0m\n\u001b[1;32m      8\u001b[0m     \u001b[0mxmax\u001b[0m \u001b[0;34m=\u001b[0m \u001b[0mannotation\u001b[0m\u001b[0;34m[\u001b[0m\u001b[0;34m'bndbox'\u001b[0m\u001b[0;34m]\u001b[0m\u001b[0;34m[\u001b[0m\u001b[0;34m'xmax'\u001b[0m\u001b[0;34m]\u001b[0m\u001b[0;34m\u001b[0m\u001b[0;34m\u001b[0m\u001b[0m\n\u001b[1;32m      9\u001b[0m     \u001b[0mymax\u001b[0m \u001b[0;34m=\u001b[0m \u001b[0mannotation\u001b[0m\u001b[0;34m[\u001b[0m\u001b[0;34m'bndbox'\u001b[0m\u001b[0;34m]\u001b[0m\u001b[0;34m[\u001b[0m\u001b[0;34m'ymax'\u001b[0m\u001b[0;34m]\u001b[0m\u001b[0;34m\u001b[0m\u001b[0;34m\u001b[0m\u001b[0m\n\u001b[0;32m---> 10\u001b[0;31m     \u001b[0myolo_file\u001b[0m \u001b[0;34m=\u001b[0m \u001b[0mos\u001b[0m\u001b[0;34m.\u001b[0m\u001b[0mpath\u001b[0m\u001b[0;34m.\u001b[0m\u001b[0mjoin\u001b[0m\u001b[0;34m(\u001b[0m\u001b[0myolo_folder\u001b[0m\u001b[0;34m,\u001b[0m \u001b[0mos\u001b[0m\u001b[0;34m.\u001b[0m\u001b[0mpath\u001b[0m\u001b[0;34m.\u001b[0m\u001b[0msplitext\u001b[0m\u001b[0;34m(\u001b[0m\u001b[0mannotation\u001b[0m\u001b[0;34m[\u001b[0m\u001b[0;34m'filename'\u001b[0m\u001b[0;34m]\u001b[0m\u001b[0;34m)\u001b[0m \u001b[0;34m+\u001b[0m \u001b[0;34m'.txt'\u001b[0m\u001b[0;34m)\u001b[0m\u001b[0;34m\u001b[0m\u001b[0;34m\u001b[0m\u001b[0m\n\u001b[0m\u001b[1;32m     11\u001b[0m \u001b[0;34m\u001b[0m\u001b[0m\n\u001b[1;32m     12\u001b[0m \u001b[0;34m\u001b[0m\u001b[0m\n",
            "\u001b[0;31mTypeError\u001b[0m: can only concatenate tuple (not \"str\") to tuple"
          ]
        }
      ]
    },
    {
      "cell_type": "code",
      "source": [
        "import json\n",
        "import os\n",
        "import shutil\n",
        "\n",
        "\n",
        "\n",
        "# Create YOLO folder\n",
        "os.makedirs(yolo_folder, exist_ok=True)\n",
        "\n",
        "# Load annotations\n",
        "with open(json_file) as f:\n",
        "    annotations = json.load(f)\n",
        "\n",
        "# Iterate over images\n",
        "for img in annotations['images']:\n",
        "    # Get image file path\n",
        "    img_file = os.path.join(image_folder, img['file_name'])\n",
        "    if not os.path.exists(img_file):\n",
        "        continue\n",
        "\n",
        "    # Get image dimensions\n",
        "    width = img['width']\n",
        "    height = img['height']\n",
        "\n",
        "    # Create YOLO annotation file\n",
        "    yolo_file = os.path.join(yolo_folder, os.path.splitext(img['file_name'])[0] + '.txt')\n",
        "    with open(yolo_file, 'w') as f:\n",
        "        # Iterate over image annotations\n",
        "        for ann in annotations['annotations']:\n",
        "            if ann['image_id'] == img['id']:\n",
        "                # Get object category\n",
        "                category = ann['category_id']\n",
        "\n",
        "                # Get object bounding box\n",
        "                bbox = ann['bbox']\n",
        "                xmin = bbox[0]\n",
        "                ymin = bbox[1]\n",
        "                xmax = bbox[0] + bbox[2]\n",
        "                ymax = bbox[1] + bbox[3]\n",
        "\n",
        "                # Convert to YOLO format\n",
        "                x_center = (xmin + xmax) / 2 / width\n",
        "                y_center = (ymin + ymax) / 2 / height\n",
        "                obj_width = (xmax - xmin) / width\n",
        "                obj_height = (ymax - ymin) / height\n",
        "\n",
        "                # Write to YOLO file\n",
        "                f.write(f\"{category} {x_center:.6f} {y_center:.6f} {obj_width:.6f} {obj_height:.6f}\\n\")\n",
        "\n",
        "    # Copy image file to YOLO folder\n",
        "    shutil.copy(img_file, yolo_folder)\n"
      ],
      "metadata": {
        "id": "oVvsccsfQV1f"
      },
      "execution_count": null,
      "outputs": []
    },
    {
      "cell_type": "code",
      "source": [
        "make\n"
      ],
      "metadata": {
        "colab": {
          "base_uri": "https://localhost:8080/",
          "height": 166
        },
        "id": "tXj0B2IcN0Vb",
        "outputId": "1785f570-0ed4-4b9b-9240-c7fbbb0272e3"
      },
      "execution_count": null,
      "outputs": [
        {
          "output_type": "error",
          "ename": "NameError",
          "evalue": "ignored",
          "traceback": [
            "\u001b[0;31m---------------------------------------------------------------------------\u001b[0m",
            "\u001b[0;31mNameError\u001b[0m                                 Traceback (most recent call last)",
            "\u001b[0;32m<ipython-input-5-97127c89847b>\u001b[0m in \u001b[0;36m<cell line: 1>\u001b[0;34m()\u001b[0m\n\u001b[0;32m----> 1\u001b[0;31m \u001b[0mmake\u001b[0m\u001b[0;34m\u001b[0m\u001b[0;34m\u001b[0m\u001b[0m\n\u001b[0m",
            "\u001b[0;31mNameError\u001b[0m: name 'make' is not defined"
          ]
        }
      ]
    },
    {
      "cell_type": "code",
      "execution_count": null,
      "metadata": {
        "colab": {
          "base_uri": "https://localhost:8080/"
        },
        "id": "XpqnSxACs6jP",
        "outputId": "b1faf8a2-65a9-408f-918e-e798403ad642"
      },
      "outputs": [
        {
          "output_type": "stream",
          "name": "stdout",
          "text": [
            "Cloning into 'yolov5'...\n",
            "remote: Enumerating objects: 15553, done.\u001b[K\n",
            "remote: Counting objects: 100% (160/160), done.\u001b[K\n",
            "remote: Compressing objects: 100% (113/113), done.\u001b[K\n",
            "remote: Total 15553 (delta 68), reused 99 (delta 47), pack-reused 15393\u001b[K\n",
            "Receiving objects: 100% (15553/15553), 14.59 MiB | 16.96 MiB/s, done.\n",
            "Resolving deltas: 100% (10596/10596), done.\n",
            "/content/darknet/yolov5\n",
            "HEAD is now at fbe67e4 Fix `OMP_NUM_THREADS=1` for macOS (#8624)\n"
          ]
        }
      ],
      "source": [
        "# clone YOLOv5 repository\n",
        "!git clone https://github.com/ultralytics/yolov5  # clone repo\n",
        "%cd yolov5\n",
        "!git reset --hard fbe67e465375231474a2ad80a4389efc77ecff99"
      ]
    },
    {
      "cell_type": "code",
      "source": [],
      "metadata": {
        "id": "QTkTQ_E3NEWz"
      },
      "execution_count": null,
      "outputs": []
    },
    {
      "cell_type": "code",
      "source": [
        "!touch data.yaml"
      ],
      "metadata": {
        "id": "s30inqRrAnsv"
      },
      "execution_count": null,
      "outputs": []
    },
    {
      "cell_type": "code",
      "source": [],
      "metadata": {
        "id": "U3uOEn2L_3y8"
      },
      "execution_count": null,
      "outputs": []
    }
  ]
}